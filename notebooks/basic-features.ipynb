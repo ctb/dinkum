{
 "cells": [
  {
   "cell_type": "code",
   "execution_count": 1,
   "id": "51e576a7",
   "metadata": {},
   "outputs": [],
   "source": [
    "from IPython.display import Image\n",
    "\n",
    "import dinkum\n",
    "from dinkum.vfg import Gene, Receptor\n",
    "from dinkum.vfn import Tissue\n",
    "from dinkum import Timecourse\n",
    "from dinkum import observations\n",
    "\n",
    "from dinkum.display import MultiTissuePanel, tc_record_activity"
   ]
  },
  {
   "cell_type": "markdown",
   "id": "157a4db7",
   "metadata": {},
   "source": [
    "## add `delay`"
   ]
  },
  {
   "cell_type": "code",
   "execution_count": 4,
   "id": "9bf98af2",
   "metadata": {},
   "outputs": [
    {
     "name": "stdout",
     "output_type": "stream",
     "text": [
      "start=1 stop=5\n"
     ]
    },
    {
     "data": {
      "image/jpeg": "[encoded data removed]",
      "image/png": "[encoded data removed]",
      "text/plain": [
       "<PIL.Image.Image image mode=RGB size=190x200>"
      ]
     },
     "execution_count": 4,
     "metadata": {},
     "output_type": "execute_result"
    }
   ],
   "source": [
    "dinkum.reset()\n",
    "\n",
    "# set it all up!                                                            \n",
    "x = Gene(name='X')\n",
    "y = Gene(name='Y')\n",
    "z = Gene(name='Z')\n",
    "\n",
    "y.activated_by(source=x)\n",
    "z.activated_by_and(sources=[x, y], delay=3)\n",
    "\n",
    "m = Tissue(name='M')\n",
    "x.is_present(where=m, start=1)\n",
    "\n",
    "states, tissues, is_active_fn = tc_record_activity(stop=5)\n",
    "\n",
    "#panel = TissueActivityPanel(states=states, tissue_name='M')\n",
    "mp = MultiTissuePanel(states=states, tissue_names=['M'],\n",
    "                      save_image=\"coherent_feed_forward.png\",\n",
    "                     )\n",
    "mp.draw(is_active_fn)"
   ]
  },
  {
   "cell_type": "code",
   "execution_count": null,
   "id": "cdbd1047",
   "metadata": {},
   "outputs": [],
   "source": []
  }
 ],
 "metadata": {
  "kernelspec": {
   "display_name": "py38arm",
   "language": "python",
   "name": "py38arm"
  },
  "language_info": {
   "codemirror_mode": {
    "name": "ipython",
    "version": 3
   },
   "file_extension": ".py",
   "mimetype": "text/x-python",
   "name": "python",
   "nbconvert_exporter": "python",
   "pygments_lexer": "ipython3",
   "version": "3.8.13"
  }
 },
 "nbformat": 4,
 "nbformat_minor": 5
}
