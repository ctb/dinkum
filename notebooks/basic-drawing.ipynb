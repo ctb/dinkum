{
 "cells": [
  {
   "cell_type": "code",
   "execution_count": 1,
   "id": "997ee0a9",
   "metadata": {},
   "outputs": [],
   "source": [
    "import dinkum\n",
    "from dinkum.vfg import Gene, Receptor\n",
    "from dinkum.vfn import Tissue\n",
    "from dinkum import Timecourse\n",
    "from dinkum import observations\n",
    "\n",
    "from dinkum.display import MultiTissuePanel, tc_record_activity"
   ]
  },
  {
   "cell_type": "markdown",
   "id": "b1738a47",
   "metadata": {},
   "source": [
    "## Coherent feed forward\n",
    "\n",
    "Gene Z is turned on only once both X and Y are on, inducing a delay."
   ]
  },
  {
   "cell_type": "code",
   "execution_count": 2,
   "id": "18ab6e6a",
   "metadata": {},
   "outputs": [
    {
     "data": {
      "application/vnd.jupyter.widget-view+json": {
       "model_id": "53e75d074a674d2ba3156fb61b274ce3",
       "version_major": 2,
       "version_minor": 0
      },
      "text/plain": [
       "Canvas(height=200, width=190)"
      ]
     },
     "execution_count": 2,
     "metadata": {},
     "output_type": "execute_result"
    }
   ],
   "source": [
    "dinkum.reset()\n",
    "\n",
    "# set it all up!                                                            \n",
    "x = Gene(name='X')\n",
    "y = Gene(name='Y')\n",
    "z = Gene(name='Z')\n",
    "\n",
    "y.activated_by(source=x)\n",
    "z.activated_by_and(sources=[x, y])\n",
    "\n",
    "m = Tissue(name='M')\n",
    "x.is_present(where=m, start=1)\n",
    "\n",
    "states, tissues, is_active_fn = tc_record_activity(stop=5)\n",
    "\n",
    "#panel = TissueActivityPanel(states=states, tissue_name='M')\n",
    "mp = MultiTissuePanel(states=states, tissue_names=['M'])\n",
    "mp.draw(is_active_fn)"
   ]
  },
  {
   "cell_type": "markdown",
   "id": "a9415690",
   "metadata": {},
   "source": [
    "## Incoherent feed forward\n",
    "\n",
    "Here gene Z is on for only a brief period of time."
   ]
  },
  {
   "cell_type": "code",
   "execution_count": 3,
   "id": "d7ca9c8a",
   "metadata": {},
   "outputs": [
    {
     "data": {
      "application/vnd.jupyter.widget-view+json": {
       "model_id": "567bbca6cd834f5c808d7aa8f66c5070",
       "version_major": 2,
       "version_minor": 0
      },
      "text/plain": [
       "Canvas(height=200, width=190)"
      ]
     },
     "execution_count": 3,
     "metadata": {},
     "output_type": "execute_result"
    }
   ],
   "source": [
    "dinkum.reset()\n",
    "\n",
    "x = Gene(name='X')\n",
    "y = Gene(name='Y')\n",
    "z = Gene(name='Z')\n",
    "\n",
    "y.activated_by(source=x)\n",
    "z.and_not(activator=x, repressor=y)\n",
    "\n",
    "m = Tissue(name='M')\n",
    "x.is_present(where=m, start=1)\n",
    "\n",
    "# run!                                                                      \n",
    "states, tissues, is_active_fn = tc_record_activity(stop=5)\n",
    "mp = MultiTissuePanel(states=states, tissue_names=['M'])\n",
    "mp.draw(is_active_fn)\n"
   ]
  },
  {
   "cell_type": "markdown",
   "id": "59b90eb1",
   "metadata": {},
   "source": [
    "## Incoherent feed forward in two tissues\n",
    "\n",
    "Here, gene S switches specification state b/t the two tissues.\n",
    "\n",
    "Note that the pulse of Z should not be happening ;)."
   ]
  },
  {
   "cell_type": "code",
   "execution_count": 4,
   "id": "226d7376",
   "metadata": {},
   "outputs": [
    {
     "data": {
      "application/vnd.jupyter.widget-view+json": {
       "model_id": "71681a42344245f9985abb593e521d85",
       "version_major": 2,
       "version_minor": 0
      },
      "text/plain": [
       "Canvas(height=200, width=410)"
      ]
     },
     "execution_count": 4,
     "metadata": {},
     "output_type": "execute_result"
    }
   ],
   "source": [
    "dinkum.reset()\n",
    "\n",
    "# set it all up!                                                            \n",
    "x = Gene(name='X')\n",
    "y = Gene(name='Y')          # Y should be on in tissue N\n",
    "z = Gene(name='Z')          # Z should be on in tissue M?\n",
    "s = Gene(name='S')          # switches spec states b/t tissues M and N      \n",
    "\n",
    "y.activated_by_and(sources=[x, s])    # Y requires S => on in tissue N\n",
    "z.and_not(activator=x, repressor=y)   # Z is on, only when Y is not around (so, not S)\n",
    "\n",
    "m = Tissue(name='M')\n",
    "x.is_present(where=m, start=1)\n",
    "\n",
    "m = Tissue(name='N')\n",
    "x.is_present(where=m, start=1)\n",
    "s.is_present(where=m, start=1)\n",
    "\n",
    "# run!                                                                      \n",
    "states, tissues, is_active_fn = tc_record_activity(stop=5)\n",
    "mp = MultiTissuePanel(states=states, tissue_names=['M', 'N'])\n",
    "mp.draw(is_active_fn)"
   ]
  },
  {
   "cell_type": "markdown",
   "id": "f2a47e7f",
   "metadata": {},
   "source": [
    "## Mutual repression\n",
    "\n",
    "Either A is present (and then X is on) or B is present (and Y is on)"
   ]
  },
  {
   "cell_type": "code",
   "execution_count": 5,
   "id": "1cda4fdd",
   "metadata": {},
   "outputs": [
    {
     "data": {
      "application/vnd.jupyter.widget-view+json": {
       "model_id": "f2b8913efd764087b66ebb31857ca644",
       "version_major": 2,
       "version_minor": 0
      },
      "text/plain": [
       "Canvas(height=200, width=380)"
      ]
     },
     "execution_count": 5,
     "metadata": {},
     "output_type": "execute_result"
    }
   ],
   "source": [
    "dinkum.reset()\n",
    "\n",
    "# set it all up!                                                            \n",
    "x = Gene(name='X')\n",
    "y = Gene(name='Y')\n",
    "a = Gene(name='A')\n",
    "b = Gene(name='B')\n",
    "\n",
    "x.and_not(activator=a, repressor=y)\n",
    "y.and_not(activator=b, repressor=x)\n",
    "\n",
    "m = Tissue(name='M')\n",
    "a.is_present(where=m, start=1)\n",
    "\n",
    "n = Tissue(name='N')\n",
    "b.is_present(where=n, start=1)\n",
    "\n",
    "# run!                                                                      \n",
    "states, tissues, is_active_fn = tc_record_activity(stop=5)\n",
    "mp = MultiTissuePanel(states=states, tissue_names=['M', 'N'])\n",
    "mp.draw(is_active_fn)"
   ]
  },
  {
   "cell_type": "markdown",
   "id": "7ebdb45d",
   "metadata": {},
   "source": [
    "## Toggle switch\n",
    "\n",
    "When co-factor is present, X is repressed; otherwise, X is expressed."
   ]
  },
  {
   "cell_type": "code",
   "execution_count": 6,
   "id": "1da93494",
   "metadata": {},
   "outputs": [
    {
     "data": {
      "application/vnd.jupyter.widget-view+json": {
       "model_id": "48d0f14d25e1483ba2f43558260aa1dc",
       "version_major": 2,
       "version_minor": 0
      },
      "text/plain": [
       "Canvas(height=200, width=350)"
      ]
     },
     "execution_count": 6,
     "metadata": {},
     "output_type": "execute_result"
    }
   ],
   "source": [
    "dinkum.reset()\n",
    "\n",
    "# set it all up!                                                            \n",
    "x = Gene(name='X')          # target of toggle switch                       \n",
    "t = Gene(name='T')          # toggle switch t.f.                            \n",
    "cofactor = Gene(name='cofactor')    # janus factor                          \n",
    "\n",
    "x.toggle_repressed(tf=t, cofactor=cofactor)\n",
    "\n",
    "# tissue M: t is present, cofactor is not; activate.                        \n",
    "m = Tissue(name='M')\n",
    "t.is_present(where=m, start=1)\n",
    "\n",
    "# tissue N: t is present, along with cofactor; repress.                     \n",
    "n = Tissue(name='N')\n",
    "t.is_present(where=n, start=1)\n",
    "cofactor.is_present(where=n, start=1)\n",
    "\n",
    "# run!                                                                      \n",
    "states, tissues, is_active_fn = tc_record_activity(stop=5)\n",
    "mp = MultiTissuePanel(states=states, tissue_names=['M', 'N'])\n",
    "mp.draw(is_active_fn)"
   ]
  },
  {
   "cell_type": "markdown",
   "id": "af69ab25",
   "metadata": {},
   "source": [
    "## Community effect\n",
    "\n",
    "An initial pulse of A in one cell results in eventual signalling-based lock-on of Y in territory."
   ]
  },
  {
   "cell_type": "code",
   "execution_count": 7,
   "id": "2f159369",
   "metadata": {},
   "outputs": [
    {
     "data": {
      "application/vnd.jupyter.widget-view+json": {
       "model_id": "f08484a1c4a94b85853ea4c5f311d5c2",
       "version_major": 2,
       "version_minor": 0
      },
      "text/plain": [
       "Canvas(height=350, width=470)"
      ]
     },
     "execution_count": 7,
     "metadata": {},
     "output_type": "execute_result"
    }
   ],
   "source": [
    "dinkum.reset()\n",
    "\n",
    "# two tissues                                                               \n",
    "m = Tissue(name='M')\n",
    "n = Tissue(name='N')\n",
    "\n",
    "# neighbors                                                                 \n",
    "m.add_neighbor(neighbor=n)\n",
    "n.add_neighbor(neighbor=m)\n",
    "assert n in m.neighbors     # should this be bidirectional? probably. CTB.  \n",
    "assert m in n.neighbors\n",
    "\n",
    "# VFN:                                                                      \n",
    "a = Gene(name='A')          # transient input in M to turn on ligand L      \n",
    "m.add_gene(gene=a, start=1, duration=6)\n",
    "\n",
    "b = Gene(name='B')          # permanent input in M and N to turn on receptor R                                                                             \n",
    "m.add_gene(gene=b, start=1)\n",
    "n.add_gene(gene=b, start=1)\n",
    "\n",
    "# VFG:                                                                      \n",
    "ligand = Gene(name='L')          # ligand                                   \n",
    "r = Receptor(name='R')      # receptor                                      \n",
    "y = Gene(name='Y')          # activated by R                                \n",
    "\n",
    "ligand.activated_or(sources=[a, y])\n",
    "\n",
    "r.ligand(activator=b, ligand=ligand) # expression driven by B,              \n",
    "                                     # activated by ligand                  \n",
    "y.activated_by(source=r)    # transcription of Y turned on by activated R.  \n",
    "\n",
    "# run!                                                                      \n",
    "states, tissues, is_active_fn = tc_record_activity(stop=10)\n",
    "mp = MultiTissuePanel(states=states, tissue_names=['M', 'N'])\n",
    "mp.draw(is_active_fn)"
   ]
  },
  {
   "cell_type": "code",
   "execution_count": null,
   "id": "45de2991",
   "metadata": {},
   "outputs": [],
   "source": []
  }
 ],
 "metadata": {
  "kernelspec": {
   "display_name": "py38arm",
   "language": "python",
   "name": "py38arm"
  },
  "language_info": {
   "codemirror_mode": {
    "name": "ipython",
    "version": 3
   },
   "file_extension": ".py",
   "mimetype": "text/x-python",
   "name": "python",
   "nbconvert_exporter": "python",
   "pygments_lexer": "ipython3",
   "version": "3.8.13"
  }
 },
 "nbformat": 4,
 "nbformat_minor": 5
}
