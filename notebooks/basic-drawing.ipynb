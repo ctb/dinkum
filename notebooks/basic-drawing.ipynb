{
 "cells": [
  {
   "cell_type": "code",
   "execution_count": 1,
   "id": "bdac3e4f",
   "metadata": {},
   "outputs": [],
   "source": [
    "from ipycanvas import Canvas"
   ]
  },
  {
   "cell_type": "code",
   "execution_count": 2,
   "id": "997ee0a9",
   "metadata": {},
   "outputs": [],
   "source": [
    "import dinkum\n",
    "from dinkum.vfg import Gene\n",
    "from dinkum.vfn import Tissue\n",
    "from dinkum import Timecourse\n",
    "from dinkum import observations"
   ]
  },
  {
   "cell_type": "code",
   "execution_count": 24,
   "id": "37d547e9",
   "metadata": {},
   "outputs": [
    {
     "data": {
      "application/vnd.jupyter.widget-view+json": {
       "model_id": "94f63d0be67c4418a71aa5888b1e4d3a",
       "version_major": 2,
       "version_minor": 0
      },
      "text/plain": [
       "Canvas(height=350, width=250)"
      ]
     },
     "execution_count": 24,
     "metadata": {},
     "output_type": "execute_result"
    }
   ],
   "source": [
    "def is_active(time_point, gene):\n",
    "    return True\n",
    "\n",
    "class TissueActivityPanel:\n",
    "    box_size = 25\n",
    "    box_spacing = 5\n",
    "    \n",
    "    box_x_start = 100\n",
    "    box_y_start = 50\n",
    "    \n",
    "    active_color = \"DeepSkyBlue\"\n",
    "    inactive_color = \"DarkGrey\"\n",
    "    \n",
    "    def __init__(self, *, tissue_name=None, times=None, gene_names=None):\n",
    "        self.times = list(times)\n",
    "        self.gene_names = list(gene_names)\n",
    "\n",
    "    def estimate_panel_size(self):\n",
    "        height = len(self.times) * (self.box_size + self.box_spacing) + self.box_y_start\n",
    "        width = len(self.gene_names) * (self.box_size + self.box_spacing) + self.box_x_start\n",
    "        return width, height\n",
    "    \n",
    "    def draw(self, is_active):\n",
    "        width, height = self.estimate_panel_size()\n",
    "        canvas = Canvas(width=width, height=height)\n",
    "        self.draw_tissue(canvas, is_active)\n",
    "        \n",
    "        return canvas\n",
    "\n",
    "    def draw_tissue(self, canvas, is_active_fn, *, x_offset=0):\n",
    "        gene_names = self.gene_names\n",
    "        times = self.times\n",
    "\n",
    "        box_total_size = self.box_size + self.box_spacing\n",
    "\n",
    "        for row in range(0, len(times)):\n",
    "            for col in range(0, len(gene_names)):\n",
    "                if is_active_fn(times[row], gene_names[col]):\n",
    "                    canvas.fill_style = self.active_color\n",
    "                else:\n",
    "                    canvas.fill_style = self.inactive_color\n",
    "\n",
    "                xpos = self.box_x_start + box_total_size*col\n",
    "                ypos = self.box_y_start + box_total_size*row\n",
    "                canvas.fill_rect(xpos, ypos, self.box_size, self.box_size)\n",
    "\n",
    "        canvas.font = \"18px Arial\"\n",
    "        canvas.text_baseline = \"top\"\n",
    "        canvas.fill_style = \"black\"\n",
    "\n",
    "        # row names / time points\n",
    "        canvas.text_align = \"right\"\n",
    "        for row in range(0, len(times)):\n",
    "            xpos = self.box_x_start - box_total_size / 2\n",
    "            ypos = self.box_y_start + box_total_size*row\n",
    "            canvas.fill_text(times[row], xpos, ypos)\n",
    "\n",
    "        # col names / genes\n",
    "        canvas.text_align = \"center\"\n",
    "        for col in range(0, len(gene_names)):\n",
    "            ypos = self.box_y_start - box_total_size\n",
    "            xpos = self.box_x_start + box_total_size*col + box_total_size / 2\n",
    "\n",
    "            canvas.fill_text(gene_names[col], xpos, ypos, max_width = box_total_size)\n",
    "        \n",
    "times = [ f\"t{x}\" for x in range(10) ]\n",
    "genes = [ 'a', 'b', 'c', 'd', 'e' ]\n",
    "\n",
    "panel = TissueActivityPanel(times=times, gene_names=genes)\n",
    "panel.draw(is_active)"
   ]
  },
  {
   "cell_type": "code",
   "execution_count": 4,
   "id": "b6f4ca49",
   "metadata": {},
   "outputs": [],
   "source": [
    "def tc_record_activity(*, start=0, stop=10, gene_names=None, tissue_name=None, verbose=False):\n",
    "    assert tissue_name is not None, \"must specify tissue\"\n",
    "    \n",
    "    tc = dinkum.Timecourse()\n",
    "\n",
    "    activity_record = []\n",
    "\n",
    "    times = []\n",
    "    time_points = {}\n",
    "    for n, state in enumerate(tc.iterate(start=start, stop=stop)):\n",
    "        tp = f\"t={state.time}\"\n",
    "        if verbose:\n",
    "            print(tp)\n",
    "        times.append(tp)\n",
    "        time_points[tp] = n\n",
    "\n",
    "        for ti in state.tissues:\n",
    "            present = state[ti]\n",
    "            if verbose:\n",
    "                print(f\"\\ttissue={ti.name}, {present.report_activity()}\")\n",
    "            if ti.name == tissue_name:\n",
    "                activity_record.append(present)\n",
    "\n",
    "    def is_active(time_point, gene):\n",
    "        time_idx = time_points[time_point]\n",
    "        ga = activity_record[time_idx]\n",
    "        active = ga.is_active(gene)\n",
    "        return bool(active)\n",
    "    \n",
    "    if gene_names is None:\n",
    "        gene_names = list(sorted(present.genes_by_name))\n",
    "    \n",
    "    return times, gene_names, is_active"
   ]
  },
  {
   "cell_type": "code",
   "execution_count": 25,
   "id": "18ab6e6a",
   "metadata": {},
   "outputs": [
    {
     "name": "stdout",
     "output_type": "stream",
     "text": [
      "got 1 tissues.\n",
      "\ttissue M\n"
     ]
    },
    {
     "data": {
      "application/vnd.jupyter.widget-view+json": {
       "model_id": "25c86d68e0f54a7b804abbc497da7770",
       "version_major": 2,
       "version_minor": 0
      },
      "text/plain": [
       "Canvas(height=200, width=190)"
      ]
     },
     "execution_count": 25,
     "metadata": {},
     "output_type": "execute_result"
    }
   ],
   "source": [
    "dinkum.reset()\n",
    "\n",
    "# set it all up!                                                            \n",
    "x = Gene(name='X')\n",
    "y = Gene(name='Y')\n",
    "z = Gene(name='Z')\n",
    "\n",
    "y.activated_by(source=x)\n",
    "z.activated_by_and(sources=[x, y])\n",
    "\n",
    "m = Tissue(name='M')\n",
    "x.is_present(where=m, start=1)\n",
    "\n",
    "times, genes, is_active_fn = tc_record_activity(tissue_name=\"M\", stop=5)\n",
    "\n",
    "panel = TissueActivityPanel(times=times, gene_names=genes)\n",
    "panel.draw(is_active)"
   ]
  },
  {
   "cell_type": "code",
   "execution_count": 26,
   "id": "d7ca9c8a",
   "metadata": {},
   "outputs": [
    {
     "name": "stdout",
     "output_type": "stream",
     "text": [
      "got 1 tissues.\n",
      "\ttissue M\n"
     ]
    },
    {
     "data": {
      "application/vnd.jupyter.widget-view+json": {
       "model_id": "f1412fa39c0244da81380d253575b8d7",
       "version_major": 2,
       "version_minor": 0
      },
      "text/plain": [
       "Canvas(height=200, width=190)"
      ]
     },
     "execution_count": 26,
     "metadata": {},
     "output_type": "execute_result"
    }
   ],
   "source": [
    "dinkum.reset()\n",
    "\n",
    "x = Gene(name='X')\n",
    "y = Gene(name='Y')\n",
    "z = Gene(name='Z')\n",
    "\n",
    "y.activated_by(source=x)\n",
    "z.and_not(activator=x, repressor=y)\n",
    "\n",
    "m = Tissue(name='M')\n",
    "x.is_present(where=m, start=1)\n",
    "\n",
    "# run!                                                                      \n",
    "times, genes, is_active_fn = tc_record_activity(tissue_name=\"M\", stop=5)\n",
    "\n",
    "\n",
    "panel = TissueActivityPanel(times=times, gene_names=genes)\n",
    "panel.draw(is_active)"
   ]
  },
  {
   "cell_type": "code",
   "execution_count": 27,
   "id": "226d7376",
   "metadata": {},
   "outputs": [
    {
     "name": "stdout",
     "output_type": "stream",
     "text": [
      "got 2 tissues.\n",
      "\ttissue M\n",
      "\ttissue N\n"
     ]
    },
    {
     "data": {
      "application/vnd.jupyter.widget-view+json": {
       "model_id": "22637148c399450aab1b0e352f487acd",
       "version_major": 2,
       "version_minor": 0
      },
      "text/plain": [
       "Canvas(height=200, width=220)"
      ]
     },
     "execution_count": 27,
     "metadata": {},
     "output_type": "execute_result"
    }
   ],
   "source": [
    "dinkum.reset()\n",
    "\n",
    "# set it all up!                                                            \n",
    "x = Gene(name='X')\n",
    "y = Gene(name='Y')\n",
    "z = Gene(name='Z')\n",
    "s = Gene(name='S')          # switches spec states b/t tissues M and N      \n",
    "\n",
    "y.activated_by_and(sources=[x, s])\n",
    "z.and_not(activator=x, repressor=y)\n",
    "\n",
    "m = Tissue(name='M')\n",
    "x.is_present(where=m, start=1)\n",
    "\n",
    "m = Tissue(name='N')\n",
    "x.is_present(where=m, start=1)\n",
    "s.is_present(where=m, start=1)\n",
    "\n",
    "# run!                                                                      \n",
    "times, genes, is_active_fn = tc_record_activity(tissue_name=\"N\", stop=5)\n",
    "\n",
    "panel = TissueActivityPanel(times=times, gene_names=genes)\n",
    "panel.draw(is_active)"
   ]
  }
 ],
 "metadata": {
  "kernelspec": {
   "display_name": "py38arm",
   "language": "python",
   "name": "py38arm"
  },
  "language_info": {
   "codemirror_mode": {
    "name": "ipython",
    "version": 3
   },
   "file_extension": ".py",
   "mimetype": "text/x-python",
   "name": "python",
   "nbconvert_exporter": "python",
   "pygments_lexer": "ipython3",
   "version": "3.8.13"
  }
 },
 "nbformat": 4,
 "nbformat_minor": 5
}
