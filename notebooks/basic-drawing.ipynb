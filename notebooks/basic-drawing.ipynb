{
 "cells": [
  {
   "cell_type": "code",
   "execution_count": 28,
   "id": "bdac3e4f",
   "metadata": {},
   "outputs": [],
   "source": [
    "from ipycanvas import Canvas"
   ]
  },
  {
   "cell_type": "code",
   "execution_count": 31,
   "id": "997ee0a9",
   "metadata": {},
   "outputs": [],
   "source": [
    "import dinkum\n",
    "from dinkum.vfg import Gene\n",
    "from dinkum.vfn import Tissue\n",
    "from dinkum import Timecourse\n",
    "from dinkum import observations"
   ]
  },
  {
   "cell_type": "code",
   "execution_count": 53,
   "id": "37d547e9",
   "metadata": {},
   "outputs": [
    {
     "data": {
      "application/vnd.jupyter.widget-view+json": {
       "model_id": "1ca04f711b2b4a3683677e17ea9ad0bb",
       "version_major": 2,
       "version_minor": 0
      },
      "text/plain": [
       "Canvas(width=500)"
      ]
     },
     "execution_count": 53,
     "metadata": {},
     "output_type": "execute_result"
    }
   ],
   "source": [
    "def is_active(time_point, gene):\n",
    "    return True\n",
    "\n",
    "def draw_tissue(tissue_num, times, gene_names, is_active_fn):\n",
    "    active_color = \"DeepSkyBlue\"\n",
    "    inactive_color = \"DarkGrey\"\n",
    "    \n",
    "    assert tissue_num == 0\n",
    "\n",
    "    box_x_start = 100\n",
    "    box_y_start = 100\n",
    "\n",
    "    box_size = 25\n",
    "    box_spacing = 5\n",
    "\n",
    "    ##\n",
    "\n",
    "    box_total_size = box_size + box_spacing\n",
    "\n",
    "    for row in range(0, len(times)):\n",
    "        for col in range(0, len(gene_names)):\n",
    "            if is_active_fn(times[row], gene_names[col]):\n",
    "                canvas.fill_style = active_color\n",
    "            else:\n",
    "                canvas.fill_style = inactive_color\n",
    "\n",
    "            xpos = box_x_start + box_total_size*col\n",
    "            ypos = box_y_start + box_total_size*row\n",
    "            canvas.fill_rect(xpos, ypos, box_size, box_size)\n",
    "\n",
    "\n",
    "    canvas.font = \"18px Arial\"\n",
    "    canvas.text_baseline = \"top\"\n",
    "    canvas.fill_style = \"black\"\n",
    "\n",
    "    # row names / time points\n",
    "    canvas.text_align = \"right\"\n",
    "    for row in range(0, len(times)):\n",
    "        xpos = box_x_start - box_total_size / 2\n",
    "        ypos = box_y_start + box_total_size*row\n",
    "        canvas.fill_text(times[row], xpos, ypos)\n",
    "\n",
    "    # col names / genes\n",
    "    canvas.text_align = \"center\"\n",
    "    for col in range(0, len(gene_names)):\n",
    "        ypos = box_y_start - box_total_size\n",
    "        xpos = box_x_start + box_total_size*col + box_total_size / 2\n",
    "\n",
    "        canvas.fill_text(gene_names[col], xpos, ypos, max_width = box_total_size)\n",
    "        \n",
    "canvas = Canvas(width=500, height=500)\n",
    "\n",
    "draw_tissue(0, [ f\"t{x}\" for x in range(10) ], [ 'a', 'b', 'c', 'd', 'e' ], is_active)\n",
    "\n",
    "canvas"
   ]
  },
  {
   "cell_type": "code",
   "execution_count": 73,
   "id": "b6f4ca49",
   "metadata": {},
   "outputs": [],
   "source": [
    "def tc_record_activity(*, start=0, stop=10, gene_names=None, tissue_name=None, verbose=False):\n",
    "    assert tissue_name is not None, \"must specify tissue\"\n",
    "    \n",
    "    tc = dinkum.Timecourse()\n",
    "\n",
    "    activity_record = []\n",
    "\n",
    "    times = []\n",
    "    time_points = {}\n",
    "    for n, state in enumerate(tc.iterate(start=start, stop=stop)):\n",
    "        tp = f\"t={state.time}\"\n",
    "        if verbose:\n",
    "            print(tp)\n",
    "        times.append(tp)\n",
    "        time_points[tp] = n\n",
    "\n",
    "        for ti in state.tissues:\n",
    "            present = state[ti]\n",
    "            if verbose:\n",
    "                print(f\"\\ttissue={ti.name}, {present.report_activity()}\")\n",
    "            if ti.name == tissue_name:\n",
    "                activity_record.append(present)\n",
    "\n",
    "    def is_active(time_point, gene):\n",
    "        time_idx = time_points[time_point]\n",
    "        ga = activity_record[time_idx]\n",
    "        active = ga.is_active(gene)\n",
    "        return bool(active)\n",
    "    \n",
    "    if gene_names is None:\n",
    "        gene_names = list(sorted(present.genes_by_name))\n",
    "    \n",
    "    return times, gene_names, is_active"
   ]
  },
  {
   "cell_type": "code",
   "execution_count": 74,
   "id": "18ab6e6a",
   "metadata": {},
   "outputs": [
    {
     "name": "stdout",
     "output_type": "stream",
     "text": [
      "got 1 tissues.\n",
      "\ttissue M\n"
     ]
    },
    {
     "data": {
      "application/vnd.jupyter.widget-view+json": {
       "model_id": "21f531d11499434bacb7ecc5257b7e2b",
       "version_major": 2,
       "version_minor": 0
      },
      "text/plain": [
       "Canvas(width=500)"
      ]
     },
     "execution_count": 74,
     "metadata": {},
     "output_type": "execute_result"
    }
   ],
   "source": [
    "dinkum.reset()\n",
    "\n",
    "# set it all up!                                                            \n",
    "x = Gene(name='X')\n",
    "y = Gene(name='Y')\n",
    "z = Gene(name='Z')\n",
    "\n",
    "y.activated_by(source=x)\n",
    "z.activated_by_and(sources=[x, y])\n",
    "\n",
    "m = Tissue(name='M')\n",
    "x.is_present(where=m, start=1)\n",
    "\n",
    "times, genes, is_active_fn = tc_record_activity(tissue_name=\"M\", stop=5)\n",
    "\n",
    "canvas = Canvas(width=500, height=500)\n",
    "\n",
    "draw_tissue(0, times, genes, is_active_fn)\n",
    "\n",
    "canvas"
   ]
  },
  {
   "cell_type": "code",
   "execution_count": 78,
   "id": "d7ca9c8a",
   "metadata": {},
   "outputs": [
    {
     "name": "stdout",
     "output_type": "stream",
     "text": [
      "got 1 tissues.\n",
      "\ttissue M\n"
     ]
    },
    {
     "data": {
      "application/vnd.jupyter.widget-view+json": {
       "model_id": "f03ec11d05e4477e9afabf6fafd1ebcb",
       "version_major": 2,
       "version_minor": 0
      },
      "text/plain": [
       "Canvas(width=500)"
      ]
     },
     "execution_count": 78,
     "metadata": {},
     "output_type": "execute_result"
    }
   ],
   "source": [
    "dinkum.reset()\n",
    "\n",
    "x = Gene(name='X')\n",
    "y = Gene(name='Y')\n",
    "z = Gene(name='Z')\n",
    "\n",
    "y.activated_by(source=x)\n",
    "z.and_not(activator=x, repressor=y)\n",
    "\n",
    "m = Tissue(name='M')\n",
    "x.is_present(where=m, start=1)\n",
    "\n",
    "# run!                                                                      \n",
    "times, genes, is_active_fn = tc_record_activity(tissue_name=\"M\", stop=5)\n",
    "\n",
    "canvas = Canvas(width=500, height=500)\n",
    "draw_tissue(0, times, genes, is_active_fn)\n",
    "canvas"
   ]
  },
  {
   "cell_type": "code",
   "execution_count": 79,
   "id": "226d7376",
   "metadata": {},
   "outputs": [
    {
     "name": "stdout",
     "output_type": "stream",
     "text": [
      "got 2 tissues.\n",
      "\ttissue M\n",
      "\ttissue N\n"
     ]
    },
    {
     "data": {
      "application/vnd.jupyter.widget-view+json": {
       "model_id": "cdd56caa9aa74ea3adfab988f018135e",
       "version_major": 2,
       "version_minor": 0
      },
      "text/plain": [
       "Canvas(width=500)"
      ]
     },
     "execution_count": 79,
     "metadata": {},
     "output_type": "execute_result"
    }
   ],
   "source": [
    "dinkum.reset()\n",
    "\n",
    "# set it all up!                                                            \n",
    "x = Gene(name='X')\n",
    "y = Gene(name='Y')\n",
    "z = Gene(name='Z')\n",
    "s = Gene(name='S')          # switches spec states b/t tissues M and N      \n",
    "\n",
    "y.activated_by_and(sources=[x, s])\n",
    "z.and_not(activator=x, repressor=y)\n",
    "\n",
    "m = Tissue(name='M')\n",
    "x.is_present(where=m, start=1)\n",
    "\n",
    "m = Tissue(name='N')\n",
    "x.is_present(where=m, start=1)\n",
    "s.is_present(where=m, start=1)\n",
    "\n",
    "# run!                                                                      \n",
    "times, genes, is_active_fn = tc_record_activity(tissue_name=\"N\", stop=5)\n",
    "\n",
    "canvas = Canvas(width=500, height=500)\n",
    "draw_tissue(0, times, genes, is_active_fn)\n",
    "canvas"
   ]
  },
  {
   "cell_type": "code",
   "execution_count": null,
   "id": "a321351a",
   "metadata": {},
   "outputs": [],
   "source": []
  },
  {
   "cell_type": "code",
   "execution_count": null,
   "id": "fcaefe04",
   "metadata": {},
   "outputs": [],
   "source": []
  }
 ],
 "metadata": {
  "kernelspec": {
   "display_name": "py38arm",
   "language": "python",
   "name": "py38arm"
  },
  "language_info": {
   "codemirror_mode": {
    "name": "ipython",
    "version": 3
   },
   "file_extension": ".py",
   "mimetype": "text/x-python",
   "name": "python",
   "nbconvert_exporter": "python",
   "pygments_lexer": "ipython3",
   "version": "3.8.13"
  }
 },
 "nbformat": 4,
 "nbformat_minor": 5
}
