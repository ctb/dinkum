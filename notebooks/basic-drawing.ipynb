{
 "cells": [
  {
   "cell_type": "code",
   "execution_count": 1,
   "id": "bdac3e4f",
   "metadata": {},
   "outputs": [],
   "source": [
    "from ipycanvas import Canvas"
   ]
  },
  {
   "cell_type": "code",
   "execution_count": 2,
   "id": "997ee0a9",
   "metadata": {},
   "outputs": [],
   "source": [
    "import dinkum\n",
    "from dinkum.vfg import Gene\n",
    "from dinkum.vfn import Tissue\n",
    "from dinkum import Timecourse\n",
    "from dinkum import observations"
   ]
  },
  {
   "cell_type": "code",
   "execution_count": 3,
   "id": "37d547e9",
   "metadata": {},
   "outputs": [],
   "source": [
    "class MultiTissuePanel:\n",
    "    def __init__(self, *, states=None, tissue_names=None):\n",
    "        panels = [ TissueActivityPanel(states) ]\n",
    "        pass\n",
    "\n",
    "class TissueActivityPanel:\n",
    "    box_size = 25\n",
    "    box_spacing = 5\n",
    "    \n",
    "    box_x_start = 100\n",
    "    box_y_start = 50\n",
    "    \n",
    "    active_color = \"DeepSkyBlue\"\n",
    "    inactive_color = \"DarkGrey\"\n",
    "    \n",
    "    def __init__(self, *, states=None, tissue_name=None):\n",
    "        assert tissue_name is not None\n",
    "        self.tissue_name = tissue_name\n",
    "    \n",
    "        times = []\n",
    "        all_gene_names = set()\n",
    "        for (tp, state) in states:\n",
    "            times.append(tp)\n",
    "            \n",
    "            activity = state.get_by_tissue_name(tissue_name)\n",
    "            all_gene_names.update(activity.genes_by_name)\n",
    "        self.gene_names = list(sorted(all_gene_names))\n",
    "\n",
    "        self.times = times\n",
    "        self.states = states\n",
    "\n",
    "    def estimate_panel_size(self):\n",
    "        height = len(self.times) * (self.box_size + self.box_spacing) + self.box_y_start\n",
    "        width = len(self.gene_names) * (self.box_size + self.box_spacing) + self.box_x_start\n",
    "        return width, height\n",
    "    \n",
    "    def draw(self, is_active):\n",
    "        width, height = self.estimate_panel_size()\n",
    "        canvas = Canvas(width=width, height=height)\n",
    "        self.draw_tissue(canvas, is_active)\n",
    "        \n",
    "        return canvas\n",
    "\n",
    "    def draw_tissue(self, canvas, is_active_fn, *, x_offset=0):\n",
    "        gene_names = self.gene_names\n",
    "        times = self.times\n",
    "\n",
    "        box_total_size = self.box_size + self.box_spacing\n",
    "\n",
    "        for row in range(0, len(times)):\n",
    "            for col in range(0, len(gene_names)):\n",
    "                if is_active_fn(self.tissue_name, times[row], gene_names[col]):\n",
    "                    canvas.fill_style = self.active_color\n",
    "                else:\n",
    "                    canvas.fill_style = self.inactive_color\n",
    "\n",
    "                xpos = self.box_x_start + box_total_size*col\n",
    "                ypos = self.box_y_start + box_total_size*row\n",
    "                canvas.fill_rect(xpos, ypos, self.box_size, self.box_size)\n",
    "\n",
    "        canvas.font = \"18px Arial\"\n",
    "        canvas.text_baseline = \"top\"\n",
    "        canvas.fill_style = \"black\"\n",
    "\n",
    "        # row names / time points\n",
    "        canvas.text_align = \"right\"\n",
    "        for row in range(0, len(times)):\n",
    "            xpos = self.box_x_start - box_total_size / 2\n",
    "            ypos = self.box_y_start + box_total_size*row\n",
    "            canvas.fill_text(times[row], xpos, ypos)\n",
    "\n",
    "        # col names / genes\n",
    "        canvas.text_align = \"center\"\n",
    "        for col in range(0, len(gene_names)):\n",
    "            ypos = self.box_y_start - box_total_size\n",
    "            xpos = self.box_x_start + box_total_size*col + box_total_size / 2\n",
    "\n",
    "            canvas.fill_text(gene_names[col], xpos, ypos, max_width = box_total_size)\n"
   ]
  },
  {
   "cell_type": "code",
   "execution_count": 4,
   "id": "b6f4ca49",
   "metadata": {},
   "outputs": [],
   "source": [
    "def tc_record_activity(*, start=0, stop=10, gene_names=None, verbose=False):    \n",
    "    tc = dinkum.Timecourse()\n",
    "\n",
    "    state_record = []     # (tp_name, state)\n",
    "\n",
    "    time_points = {}      # time_point_name => index\n",
    "    all_tissues = set()   # all tissues across all time points\n",
    "\n",
    "    for n, state in enumerate(tc.iterate(start=start, stop=stop)):\n",
    "        tp = f\"t={state.time}\"\n",
    "        if verbose:\n",
    "            print(tp)\n",
    "        time_points[tp] = n\n",
    "\n",
    "        for ti in state.tissues:\n",
    "            all_tissues.add(ti.name)\n",
    "            present = state[ti]\n",
    "            if verbose:\n",
    "                print(f\"\\ttissue={ti.name}, {present.report_activity()}\")\n",
    "\n",
    "        state_record.append((tp, state))\n",
    "\n",
    "    def is_active(tissue_name, time_point, gene):\n",
    "        time_idx = time_points[time_point]\n",
    "        ga = states[time_idx]\n",
    "        active = ga[1].get_by_tissue_name(tissue_name).is_active(gene)\n",
    "        return bool(active)\n",
    "    \n",
    "    return state_record, list(all_tissues), is_active"
   ]
  },
  {
   "cell_type": "code",
   "execution_count": 5,
   "id": "18ab6e6a",
   "metadata": {},
   "outputs": [
    {
     "data": {
      "application/vnd.jupyter.widget-view+json": {
       "model_id": "afea51c0e098478e968631f5f03eec9f",
       "version_major": 2,
       "version_minor": 0
      },
      "text/plain": [
       "Canvas(height=200, width=190)"
      ]
     },
     "execution_count": 5,
     "metadata": {},
     "output_type": "execute_result"
    }
   ],
   "source": [
    "dinkum.reset()\n",
    "\n",
    "# set it all up!                                                            \n",
    "x = Gene(name='X')\n",
    "y = Gene(name='Y')\n",
    "z = Gene(name='Z')\n",
    "\n",
    "y.activated_by(source=x)\n",
    "z.activated_by_and(sources=[x, y])\n",
    "\n",
    "m = Tissue(name='M')\n",
    "x.is_present(where=m, start=1)\n",
    "\n",
    "states, tissues, is_active_fn = tc_record_activity(stop=5)\n",
    "\n",
    "panel = TissueActivityPanel(states=states, tissue_name='M')\n",
    "panel.draw(is_active_fn)"
   ]
  },
  {
   "cell_type": "code",
   "execution_count": 6,
   "id": "d7ca9c8a",
   "metadata": {},
   "outputs": [
    {
     "data": {
      "application/vnd.jupyter.widget-view+json": {
       "model_id": "bce06e37e352407bb8d772c0d86db65f",
       "version_major": 2,
       "version_minor": 0
      },
      "text/plain": [
       "Canvas(height=200, width=190)"
      ]
     },
     "execution_count": 6,
     "metadata": {},
     "output_type": "execute_result"
    }
   ],
   "source": [
    "dinkum.reset()\n",
    "\n",
    "x = Gene(name='X')\n",
    "y = Gene(name='Y')\n",
    "z = Gene(name='Z')\n",
    "\n",
    "y.activated_by(source=x)\n",
    "z.and_not(activator=x, repressor=y)\n",
    "\n",
    "m = Tissue(name='M')\n",
    "x.is_present(where=m, start=1)\n",
    "\n",
    "# run!                                                                      \n",
    "states, tissues, is_active_fn = tc_record_activity(stop=5)\n",
    "panel = TissueActivityPanel(states=states, tissue_name='M')\n",
    "panel.draw(is_active_fn)"
   ]
  },
  {
   "cell_type": "code",
   "execution_count": 7,
   "id": "226d7376",
   "metadata": {},
   "outputs": [
    {
     "data": {
      "application/vnd.jupyter.widget-view+json": {
       "model_id": "5e6b409a49804cc0a9e3eb734e855384",
       "version_major": 2,
       "version_minor": 0
      },
      "text/plain": [
       "Canvas(height=200, width=190)"
      ]
     },
     "execution_count": 7,
     "metadata": {},
     "output_type": "execute_result"
    }
   ],
   "source": [
    "dinkum.reset()\n",
    "\n",
    "# set it all up!                                                            \n",
    "x = Gene(name='X')\n",
    "y = Gene(name='Y')\n",
    "z = Gene(name='Z')\n",
    "s = Gene(name='S')          # switches spec states b/t tissues M and N      \n",
    "\n",
    "y.activated_by_and(sources=[x, s])\n",
    "z.and_not(activator=x, repressor=y)\n",
    "\n",
    "m = Tissue(name='M')\n",
    "x.is_present(where=m, start=1)\n",
    "\n",
    "m = Tissue(name='N')\n",
    "x.is_present(where=m, start=1)\n",
    "s.is_present(where=m, start=1)\n",
    "\n",
    "# run!                                                                      \n",
    "states, tissues, is_active_fn = tc_record_activity(stop=5)\n",
    "panel = TissueActivityPanel(states=states, tissue_name='M')\n",
    "panel.draw(is_active_fn)"
   ]
  },
  {
   "cell_type": "code",
   "execution_count": null,
   "id": "9e7456bb",
   "metadata": {},
   "outputs": [],
   "source": []
  }
 ],
 "metadata": {
  "kernelspec": {
   "display_name": "py38arm",
   "language": "python",
   "name": "py38arm"
  },
  "language_info": {
   "codemirror_mode": {
    "name": "ipython",
    "version": 3
   },
   "file_extension": ".py",
   "mimetype": "text/x-python",
   "name": "python",
   "nbconvert_exporter": "python",
   "pygments_lexer": "ipython3",
   "version": "3.8.13"
  }
 },
 "nbformat": 4,
 "nbformat_minor": 5
}
