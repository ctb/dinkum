{
 "cells": [
  {
   "cell_type": "code",
   "execution_count": 1,
   "id": "bdac3e4f",
   "metadata": {},
   "outputs": [],
   "source": [
    "from ipycanvas import Canvas"
   ]
  },
  {
   "cell_type": "code",
   "execution_count": 2,
   "id": "997ee0a9",
   "metadata": {},
   "outputs": [],
   "source": [
    "import dinkum\n",
    "from dinkum.vfg import Gene, Receptor\n",
    "from dinkum.vfn import Tissue\n",
    "from dinkum import Timecourse\n",
    "from dinkum import observations"
   ]
  },
  {
   "cell_type": "code",
   "execution_count": 3,
   "id": "37d547e9",
   "metadata": {},
   "outputs": [],
   "source": [
    "class MultiTissuePanel:\n",
    "    def __init__(self, *, states=None, tissue_names=None):\n",
    "        self.panels = [ TissueActivityPanel(states=states, tissue_name=t) for t in tissue_names ]\n",
    "        \n",
    "    def draw(self, is_active_fn):\n",
    "        total_width = 0\n",
    "        x_offsets = [0]\n",
    "        max_height = 0\n",
    "        for p in self.panels:\n",
    "            width, height = p.estimate_panel_size()\n",
    "            max_height = max(height, max_height)\n",
    "            total_width += width\n",
    "            x_offsets.append(width)\n",
    "\n",
    "        canvas = Canvas(width=total_width, height=max_height)\n",
    "        for p, x_offset in zip(self.panels, x_offsets):\n",
    "            p.draw_tissue(canvas, is_active_fn, x_offset=x_offset)\n",
    "            \n",
    "        return canvas\n",
    "\n",
    "        \n",
    "class TissueActivityPanel:\n",
    "    box_size = 25\n",
    "    box_spacing = 5\n",
    "    \n",
    "    box_x_start = 100\n",
    "    box_y_start = 50\n",
    "    \n",
    "    active_color = \"DeepSkyBlue\"\n",
    "    inactive_color = \"DarkGrey\"\n",
    "    \n",
    "    def __init__(self, *, states=None, tissue_name=None):\n",
    "        assert tissue_name is not None\n",
    "        self.tissue_name = tissue_name\n",
    "    \n",
    "        times = []\n",
    "        all_gene_names = set()\n",
    "        for (tp, state) in states:\n",
    "            times.append(tp)\n",
    "            \n",
    "            activity = state.get_by_tissue_name(tissue_name)\n",
    "            all_gene_names.update(activity.genes_by_name)\n",
    "        self.gene_names = list(sorted(all_gene_names))\n",
    "\n",
    "        self.times = times\n",
    "        self.states = states\n",
    "\n",
    "    def estimate_panel_size(self):\n",
    "        height = len(self.times) * (self.box_size + self.box_spacing) + self.box_y_start\n",
    "        width = len(self.gene_names) * (self.box_size + self.box_spacing) + self.box_x_start\n",
    "        return width, height\n",
    "    \n",
    "    def draw(self, is_active):\n",
    "        \"Create canvas & draw single tissue.\"\n",
    "        width, height = self.estimate_panel_size()\n",
    "        canvas = Canvas(width=width, height=height)\n",
    "        self.draw_tissue(canvas, is_active)\n",
    "        \n",
    "        return canvas\n",
    "\n",
    "    def draw_tissue(self, canvas, is_active_fn, *, x_offset=0):\n",
    "        \"Draw this tissue on existing canvas.\"\n",
    "        gene_names = self.gene_names\n",
    "        times = self.times\n",
    "\n",
    "        box_total_size = self.box_size + self.box_spacing\n",
    "\n",
    "        for row in range(0, len(times)):\n",
    "            for col in range(0, len(gene_names)):\n",
    "                if is_active_fn(self.tissue_name, times[row], gene_names[col]):\n",
    "                    canvas.fill_style = self.active_color\n",
    "                else:\n",
    "                    canvas.fill_style = self.inactive_color\n",
    "\n",
    "                xpos = self.box_x_start + box_total_size*col + x_offset\n",
    "                ypos = self.box_y_start + box_total_size*row\n",
    "                canvas.fill_rect(xpos, ypos, self.box_size, self.box_size)\n",
    "\n",
    "        canvas.font = \"18px Arial\"\n",
    "        canvas.text_baseline = \"top\"\n",
    "        canvas.fill_style = \"black\"\n",
    "\n",
    "        # row names / time points\n",
    "        canvas.text_align = \"right\"\n",
    "        for row in range(0, len(times)):\n",
    "            xpos = self.box_x_start - box_total_size / 2 + x_offset\n",
    "            ypos = self.box_y_start + box_total_size*row\n",
    "            canvas.fill_text(times[row], xpos, ypos)\n",
    "\n",
    "        # col names / genes\n",
    "        canvas.text_align = \"center\"\n",
    "        for col in range(0, len(gene_names)):\n",
    "            ypos = self.box_y_start - box_total_size\n",
    "            xpos = self.box_x_start + box_total_size*col + box_total_size / 2 + x_offset\n",
    "\n",
    "            canvas.fill_text(gene_names[col], xpos, ypos, max_width = box_total_size)"
   ]
  },
  {
   "cell_type": "code",
   "execution_count": 4,
   "id": "b6f4ca49",
   "metadata": {},
   "outputs": [],
   "source": [
    "def tc_record_activity(*, start=1, stop=10, gene_names=None, verbose=False):    \n",
    "    tc = dinkum.Timecourse()\n",
    "\n",
    "    state_record = []     # (tp_name, state)\n",
    "\n",
    "    time_points = {}      # time_point_name => index\n",
    "    all_tissues = set()   # all tissues across all time points\n",
    "\n",
    "    for n, state in enumerate(tc.iterate(start=start, stop=stop)):\n",
    "        tp = f\"t={state.time}\"\n",
    "        if verbose:\n",
    "            print(tp)\n",
    "        time_points[tp] = n\n",
    "\n",
    "        for ti in state.tissues:\n",
    "            all_tissues.add(ti.name)\n",
    "            present = state[ti]\n",
    "            if verbose:\n",
    "                print(f\"\\ttissue={ti.name}, {present.report_activity()}\")\n",
    "\n",
    "        state_record.append((tp, state))\n",
    "\n",
    "    def is_active(tissue_name, time_point, gene):\n",
    "        time_idx = time_points[time_point]\n",
    "        ga = states[time_idx]\n",
    "        active = ga[1].get_by_tissue_name(tissue_name).is_active(gene)\n",
    "        return bool(active)\n",
    "    \n",
    "    return state_record, list(all_tissues), is_active"
   ]
  },
  {
   "cell_type": "markdown",
   "id": "b1738a47",
   "metadata": {},
   "source": [
    "## Coherent feed forward\n",
    "\n",
    "Gene Z is turned on only once both X and Y are on, inducing a delay."
   ]
  },
  {
   "cell_type": "code",
   "execution_count": 5,
   "id": "18ab6e6a",
   "metadata": {},
   "outputs": [
    {
     "data": {
      "application/vnd.jupyter.widget-view+json": {
       "model_id": "80c8b2eb5ff14993af58e17e56b67318",
       "version_major": 2,
       "version_minor": 0
      },
      "text/plain": [
       "Canvas(height=200, width=190)"
      ]
     },
     "execution_count": 5,
     "metadata": {},
     "output_type": "execute_result"
    }
   ],
   "source": [
    "dinkum.reset()\n",
    "\n",
    "# set it all up!                                                            \n",
    "x = Gene(name='X')\n",
    "y = Gene(name='Y')\n",
    "z = Gene(name='Z')\n",
    "\n",
    "y.activated_by(source=x)\n",
    "z.activated_by_and(sources=[x, y])\n",
    "\n",
    "m = Tissue(name='M')\n",
    "x.is_present(where=m, start=1)\n",
    "\n",
    "states, tissues, is_active_fn = tc_record_activity(stop=5)\n",
    "\n",
    "#panel = TissueActivityPanel(states=states, tissue_name='M')\n",
    "mp = MultiTissuePanel(states=states, tissue_names=['M'])\n",
    "mp.draw(is_active_fn)"
   ]
  },
  {
   "cell_type": "markdown",
   "id": "a9415690",
   "metadata": {},
   "source": [
    "## Incoherent feed forward\n",
    "\n",
    "Here gene Z is on for only a brief period of time."
   ]
  },
  {
   "cell_type": "code",
   "execution_count": 6,
   "id": "d7ca9c8a",
   "metadata": {},
   "outputs": [
    {
     "data": {
      "application/vnd.jupyter.widget-view+json": {
       "model_id": "67d5341e6b38401eb65449732416ffba",
       "version_major": 2,
       "version_minor": 0
      },
      "text/plain": [
       "Canvas(height=200, width=190)"
      ]
     },
     "execution_count": 6,
     "metadata": {},
     "output_type": "execute_result"
    }
   ],
   "source": [
    "dinkum.reset()\n",
    "\n",
    "x = Gene(name='X')\n",
    "y = Gene(name='Y')\n",
    "z = Gene(name='Z')\n",
    "\n",
    "y.activated_by(source=x)\n",
    "z.and_not(activator=x, repressor=y)\n",
    "\n",
    "m = Tissue(name='M')\n",
    "x.is_present(where=m, start=1)\n",
    "\n",
    "# run!                                                                      \n",
    "states, tissues, is_active_fn = tc_record_activity(stop=5)\n",
    "mp = MultiTissuePanel(states=states, tissue_names=['M'])\n",
    "mp.draw(is_active_fn)\n"
   ]
  },
  {
   "cell_type": "markdown",
   "id": "59b90eb1",
   "metadata": {},
   "source": [
    "## Incoherent feed forward in two tissues\n",
    "\n",
    "Here, gene S switches specification state b/t the two tissues.\n",
    "\n",
    "Note that the pulse of Z should not be happening ;)."
   ]
  },
  {
   "cell_type": "code",
   "execution_count": 7,
   "id": "226d7376",
   "metadata": {},
   "outputs": [
    {
     "data": {
      "application/vnd.jupyter.widget-view+json": {
       "model_id": "9e9ba46ba8394d0f90b9afff34f3a0c5",
       "version_major": 2,
       "version_minor": 0
      },
      "text/plain": [
       "Canvas(height=200, width=410)"
      ]
     },
     "execution_count": 7,
     "metadata": {},
     "output_type": "execute_result"
    }
   ],
   "source": [
    "dinkum.reset()\n",
    "\n",
    "# set it all up!                                                            \n",
    "x = Gene(name='X')\n",
    "y = Gene(name='Y')          # Y should be on in tissue N\n",
    "z = Gene(name='Z')          # Z should be on in tissue M?\n",
    "s = Gene(name='S')          # switches spec states b/t tissues M and N      \n",
    "\n",
    "y.activated_by_and(sources=[x, s])    # Y requires S => on in tissue N\n",
    "z.and_not(activator=x, repressor=y)   # Z is on, only when Y is not around (so, not S)\n",
    "\n",
    "m = Tissue(name='M')\n",
    "x.is_present(where=m, start=1)\n",
    "\n",
    "m = Tissue(name='N')\n",
    "x.is_present(where=m, start=1)\n",
    "s.is_present(where=m, start=1)\n",
    "\n",
    "# run!                                                                      \n",
    "states, tissues, is_active_fn = tc_record_activity(stop=5)\n",
    "mp = MultiTissuePanel(states=states, tissue_names=['M', 'N'])\n",
    "mp.draw(is_active_fn)"
   ]
  },
  {
   "cell_type": "markdown",
   "id": "f2a47e7f",
   "metadata": {},
   "source": [
    "## Mutual repression\n",
    "\n",
    "Either A is present (and then X is on) or B is present (and Y is on)"
   ]
  },
  {
   "cell_type": "code",
   "execution_count": 8,
   "id": "1cda4fdd",
   "metadata": {},
   "outputs": [
    {
     "data": {
      "application/vnd.jupyter.widget-view+json": {
       "model_id": "eb978b7ca4cb44deb80cc17199a23477",
       "version_major": 2,
       "version_minor": 0
      },
      "text/plain": [
       "Canvas(height=200, width=380)"
      ]
     },
     "execution_count": 8,
     "metadata": {},
     "output_type": "execute_result"
    }
   ],
   "source": [
    "dinkum.reset()\n",
    "\n",
    "# set it all up!                                                            \n",
    "x = Gene(name='X')\n",
    "y = Gene(name='Y')\n",
    "a = Gene(name='A')\n",
    "b = Gene(name='B')\n",
    "\n",
    "x.and_not(activator=a, repressor=y)\n",
    "y.and_not(activator=b, repressor=x)\n",
    "\n",
    "m = Tissue(name='M')\n",
    "a.is_present(where=m, start=1)\n",
    "\n",
    "n = Tissue(name='N')\n",
    "b.is_present(where=n, start=1)\n",
    "\n",
    "# run!                                                                      \n",
    "states, tissues, is_active_fn = tc_record_activity(stop=5)\n",
    "mp = MultiTissuePanel(states=states, tissue_names=['M', 'N'])\n",
    "mp.draw(is_active_fn)"
   ]
  },
  {
   "cell_type": "markdown",
   "id": "7ebdb45d",
   "metadata": {},
   "source": [
    "## Toggle switch\n",
    "\n",
    "When co-factor is present, X is repressed; otherwise, X is expressed."
   ]
  },
  {
   "cell_type": "code",
   "execution_count": 9,
   "id": "1da93494",
   "metadata": {},
   "outputs": [
    {
     "data": {
      "application/vnd.jupyter.widget-view+json": {
       "model_id": "51baaca80e664cb2b583d04d4d72ce96",
       "version_major": 2,
       "version_minor": 0
      },
      "text/plain": [
       "Canvas(height=200, width=350)"
      ]
     },
     "execution_count": 9,
     "metadata": {},
     "output_type": "execute_result"
    }
   ],
   "source": [
    "dinkum.reset()\n",
    "\n",
    "# set it all up!                                                            \n",
    "x = Gene(name='X')          # target of toggle switch                       \n",
    "t = Gene(name='T')          # toggle switch t.f.                            \n",
    "cofactor = Gene(name='cofactor')    # janus factor                          \n",
    "\n",
    "x.toggle_repressed(tf=t, cofactor=cofactor)\n",
    "\n",
    "# tissue M: t is present, cofactor is not; activate.                        \n",
    "m = Tissue(name='M')\n",
    "t.is_present(where=m, start=1)\n",
    "\n",
    "# tissue N: t is present, along with cofactor; repress.                     \n",
    "n = Tissue(name='N')\n",
    "t.is_present(where=n, start=1)\n",
    "cofactor.is_present(where=n, start=1)\n",
    "\n",
    "# run!                                                                      \n",
    "states, tissues, is_active_fn = tc_record_activity(stop=5)\n",
    "mp = MultiTissuePanel(states=states, tissue_names=['M', 'N'])\n",
    "mp.draw(is_active_fn)"
   ]
  },
  {
   "cell_type": "markdown",
   "id": "af69ab25",
   "metadata": {},
   "source": [
    "## Community effect\n",
    "\n",
    "An initial pulse of A in one cell results in eventual signalling-based lock-on of Y in territory."
   ]
  },
  {
   "cell_type": "code",
   "execution_count": 10,
   "id": "2f159369",
   "metadata": {},
   "outputs": [
    {
     "data": {
      "application/vnd.jupyter.widget-view+json": {
       "model_id": "d8a82df5119b4d68b62ce3005531ae75",
       "version_major": 2,
       "version_minor": 0
      },
      "text/plain": [
       "Canvas(height=350, width=470)"
      ]
     },
     "execution_count": 10,
     "metadata": {},
     "output_type": "execute_result"
    }
   ],
   "source": [
    "dinkum.reset()\n",
    "\n",
    "# two tissues                                                               \n",
    "m = Tissue(name='M')\n",
    "n = Tissue(name='N')\n",
    "\n",
    "# neighbors                                                                 \n",
    "m.add_neighbor(neighbor=n)\n",
    "n.add_neighbor(neighbor=m)\n",
    "assert n in m.neighbors     # should this be bidirectional? probably. CTB.  \n",
    "assert m in n.neighbors\n",
    "\n",
    "# VFN:                                                                      \n",
    "a = Gene(name='A')          # transient input in M to turn on ligand L      \n",
    "m.add_gene(gene=a, start=1, duration=6)\n",
    "\n",
    "b = Gene(name='B')          # permanent input in M and N to turn on receptor R                                                                             \n",
    "m.add_gene(gene=b, start=1)\n",
    "n.add_gene(gene=b, start=1)\n",
    "\n",
    "# VFG:                                                                      \n",
    "ligand = Gene(name='L')          # ligand                                   \n",
    "r = Receptor(name='R')      # receptor                                      \n",
    "y = Gene(name='Y')          # activated by R                                \n",
    "\n",
    "ligand.activated_or(sources=[a, y])\n",
    "\n",
    "r.ligand(activator=b, ligand=ligand) # expression driven by B,              \n",
    "                                     # activated by ligand                  \n",
    "y.activated_by(source=r)    # transcription of Y turned on by activated R.  \n",
    "\n",
    "# run!                                                                      \n",
    "states, tissues, is_active_fn = tc_record_activity(stop=10)\n",
    "mp = MultiTissuePanel(states=states, tissue_names=['M', 'N'])\n",
    "mp.draw(is_active_fn)"
   ]
  },
  {
   "cell_type": "code",
   "execution_count": null,
   "id": "45de2991",
   "metadata": {},
   "outputs": [],
   "source": []
  }
 ],
 "metadata": {
  "kernelspec": {
   "display_name": "py38arm",
   "language": "python",
   "name": "py38arm"
  },
  "language_info": {
   "codemirror_mode": {
    "name": "ipython",
    "version": 3
   },
   "file_extension": ".py",
   "mimetype": "text/x-python",
   "name": "python",
   "nbconvert_exporter": "python",
   "pygments_lexer": "ipython3",
   "version": "3.8.13"
  }
 },
 "nbformat": 4,
 "nbformat_minor": 5
}
