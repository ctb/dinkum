{
 "cells": [
  {
   "cell_type": "markdown",
   "id": "81c3dada",
   "metadata": {},
   "source": [
    "# State diagrams for simple circuits in dinkum"
   ]
  },
  {
   "cell_type": "code",
   "execution_count": 1,
   "id": "997ee0a9",
   "metadata": {},
   "outputs": [],
   "source": [
    "from IPython.display import Image\n",
    "\n",
    "import dinkum\n",
    "from dinkum.vfg import Gene, Receptor\n",
    "from dinkum.vfn import Tissue\n",
    "from dinkum import Timecourse\n",
    "from dinkum import observations\n",
    "\n",
    "from dinkum.display import MultiTissuePanel, tc_record_activity"
   ]
  },
  {
   "cell_type": "markdown",
   "id": "b1738a47",
   "metadata": {},
   "source": [
    "## Coherent feed forward\n",
    "\n",
    "Gene Z is turned on only once both X and Y are on, inducing a delay."
   ]
  },
  {
   "cell_type": "code",
   "execution_count": 2,
   "id": "18ab6e6a",
   "metadata": {},
   "outputs": [
    {
     "data": {
      "application/vnd.jupyter.widget-view+json": {
       "model_id": "29a7cf5ea3f446e2b291e1ae29b9eadb",
       "version_major": 2,
       "version_minor": 0
      },
      "text/plain": [
       "Canvas(height=200, sync_image_data=True, width=190)"
      ]
     },
     "execution_count": 2,
     "metadata": {},
     "output_type": "execute_result"
    }
   ],
   "source": [
    "dinkum.reset()\n",
    "\n",
    "# set it all up!                                                            \n",
    "x = Gene(name='X')\n",
    "y = Gene(name='Y')\n",
    "z = Gene(name='Z')\n",
    "\n",
    "y.activated_by(source=x)\n",
    "z.activated_by_and(sources=[x, y])\n",
    "\n",
    "m = Tissue(name='M')\n",
    "x.is_present(where=m, start=1)\n",
    "\n",
    "states, tissues, is_active_fn = tc_record_activity(stop=5)\n",
    "\n",
    "#panel = TissueActivityPanel(states=states, tissue_name='M')\n",
    "mp = MultiTissuePanel(states=states, tissue_names=['M'],\n",
    "                      save_image=\"coherent_feed_forward.png\")\n",
    "\n",
    "mp.draw(is_active_fn)"
   ]
  },
  {
   "cell_type": "code",
   "execution_count": 3,
   "id": "5f8a7339",
   "metadata": {},
   "outputs": [
    {
     "data": {
      "image/png": "[encoded data removed]",
      "text/plain": [
       "<IPython.core.display.Image object>"
      ]
     },
     "execution_count": 3,
     "metadata": {},
     "output_type": "execute_result"
    }
   ],
   "source": [
    "Image(filename=\"coherent_feed_forward.png\") "
   ]
  },
  {
   "cell_type": "markdown",
   "id": "a9415690",
   "metadata": {},
   "source": [
    "## Incoherent feed forward\n",
    "\n",
    "Here gene Z is on for only a brief period of time."
   ]
  },
  {
   "cell_type": "code",
   "execution_count": 4,
   "id": "d7ca9c8a",
   "metadata": {},
   "outputs": [
    {
     "data": {
      "application/vnd.jupyter.widget-view+json": {
       "model_id": "c328f6795daf4094adddd0f511084b53",
       "version_major": 2,
       "version_minor": 0
      },
      "text/plain": [
       "Canvas(height=200, sync_image_data=True, width=190)"
      ]
     },
     "execution_count": 4,
     "metadata": {},
     "output_type": "execute_result"
    }
   ],
   "source": [
    "dinkum.reset()\n",
    "\n",
    "x = Gene(name='X')\n",
    "y = Gene(name='Y')\n",
    "z = Gene(name='Z')\n",
    "\n",
    "y.activated_by(source=x)\n",
    "z.and_not(activator=x, repressor=y)\n",
    "\n",
    "m = Tissue(name='M')\n",
    "x.is_present(where=m, start=1)\n",
    "\n",
    "# run!                                                                      \n",
    "states, tissues, is_active_fn = tc_record_activity(stop=5)\n",
    "mp = MultiTissuePanel(states=states, tissue_names=['M'],\n",
    "                      save_image=\"incoherent_feed_forward.png\")\n",
    "mp.draw(is_active_fn)\n"
   ]
  },
  {
   "cell_type": "code",
   "execution_count": 5,
   "id": "f7eb59d3",
   "metadata": {},
   "outputs": [
    {
     "data": {
      "image/png": "[encoded data removed]",
      "text/plain": [
       "<IPython.core.display.Image object>"
      ]
     },
     "execution_count": 5,
     "metadata": {},
     "output_type": "execute_result"
    }
   ],
   "source": [
    "Image(filename=\"incoherent_feed_forward.png\") "
   ]
  },
  {
   "cell_type": "markdown",
   "id": "59b90eb1",
   "metadata": {},
   "source": [
    "## Incoherent feed forward in two tissues\n",
    "\n",
    "Here, gene S switches specification state b/t the two tissues.\n",
    "\n",
    "Note that the pulse of Z should not be happening ;)."
   ]
  },
  {
   "cell_type": "code",
   "execution_count": 6,
   "id": "226d7376",
   "metadata": {},
   "outputs": [
    {
     "data": {
      "application/vnd.jupyter.widget-view+json": {
       "model_id": "a704eecbc7b54fa8a77c1010341008f4",
       "version_major": 2,
       "version_minor": 0
      },
      "text/plain": [
       "Canvas(height=200, sync_image_data=True, width=410)"
      ]
     },
     "execution_count": 6,
     "metadata": {},
     "output_type": "execute_result"
    }
   ],
   "source": [
    "dinkum.reset()\n",
    "\n",
    "# set it all up!                                                            \n",
    "x = Gene(name='X')\n",
    "y = Gene(name='Y')          # Y should be on in tissue N\n",
    "z = Gene(name='Z')          # Z should be on in tissue M?\n",
    "s = Gene(name='S')          # switches spec states b/t tissues M and N      \n",
    "\n",
    "y.activated_by_and(sources=[x, s])    # Y requires S => on in tissue N\n",
    "z.and_not(activator=x, repressor=y)   # Z is on, only when Y is not around (so, not S)\n",
    "\n",
    "m = Tissue(name='M')\n",
    "x.is_present(where=m, start=1)\n",
    "\n",
    "m = Tissue(name='N')\n",
    "x.is_present(where=m, start=1)\n",
    "s.is_present(where=m, start=1)\n",
    "\n",
    "# run!                                                                      \n",
    "states, tissues, is_active_fn = tc_record_activity(stop=5)\n",
    "mp = MultiTissuePanel(states=states, tissue_names=['M', 'N'],\n",
    "                      save_image=\"incoherent_feed_forward_2t.png\")\n",
    "mp.draw(is_active_fn)"
   ]
  },
  {
   "cell_type": "code",
   "execution_count": 7,
   "id": "d5097ad3",
   "metadata": {},
   "outputs": [
    {
     "data": {
      "image/png": "[encoded data removed]",
      "text/plain": [
       "<IPython.core.display.Image object>"
      ]
     },
     "execution_count": 7,
     "metadata": {},
     "output_type": "execute_result"
    }
   ],
   "source": [
    "Image(filename=\"incoherent_feed_forward_2t.png\") "
   ]
  },
  {
   "cell_type": "markdown",
   "id": "f2a47e7f",
   "metadata": {},
   "source": [
    "## Mutual repression\n",
    "\n",
    "Either A is present (and then X is on) or B is present (and Y is on)"
   ]
  },
  {
   "cell_type": "code",
   "execution_count": 8,
   "id": "1cda4fdd",
   "metadata": {},
   "outputs": [
    {
     "data": {
      "application/vnd.jupyter.widget-view+json": {
       "model_id": "02a30b52170c4ac68fbad46572dcc79e",
       "version_major": 2,
       "version_minor": 0
      },
      "text/plain": [
       "Canvas(height=200, sync_image_data=True, width=380)"
      ]
     },
     "execution_count": 8,
     "metadata": {},
     "output_type": "execute_result"
    }
   ],
   "source": [
    "dinkum.reset()\n",
    "\n",
    "# set it all up!                                                            \n",
    "x = Gene(name='X')\n",
    "y = Gene(name='Y')\n",
    "a = Gene(name='A')\n",
    "b = Gene(name='B')\n",
    "\n",
    "x.and_not(activator=a, repressor=y)\n",
    "y.and_not(activator=b, repressor=x)\n",
    "\n",
    "m = Tissue(name='M')\n",
    "a.is_present(where=m, start=1)\n",
    "\n",
    "n = Tissue(name='N')\n",
    "b.is_present(where=n, start=1)\n",
    "\n",
    "# run!                                                                      \n",
    "states, tissues, is_active_fn = tc_record_activity(stop=5)\n",
    "mp = MultiTissuePanel(states=states, tissue_names=['M', 'N'],\n",
    "                      save_image=\"mutual_repression.png\")\n",
    "mp.draw(is_active_fn)"
   ]
  },
  {
   "cell_type": "code",
   "execution_count": 9,
   "id": "847351ab",
   "metadata": {},
   "outputs": [
    {
     "data": {
      "image/png": "[encoded data removed]",
      "text/plain": [
       "<IPython.core.display.Image object>"
      ]
     },
     "execution_count": 9,
     "metadata": {},
     "output_type": "execute_result"
    }
   ],
   "source": [
    "Image(filename=\"mutual_repression.png\")"
   ]
  },
  {
   "cell_type": "markdown",
   "id": "7ebdb45d",
   "metadata": {},
   "source": [
    "## Toggle switch\n",
    "\n",
    "When co-factor is present, X is repressed; otherwise, X is expressed."
   ]
  },
  {
   "cell_type": "code",
   "execution_count": 10,
   "id": "1da93494",
   "metadata": {},
   "outputs": [
    {
     "data": {
      "application/vnd.jupyter.widget-view+json": {
       "model_id": "9c56e4490be14f4a9110826b80a9e2fe",
       "version_major": 2,
       "version_minor": 0
      },
      "text/plain": [
       "Canvas(height=200, sync_image_data=True, width=350)"
      ]
     },
     "execution_count": 10,
     "metadata": {},
     "output_type": "execute_result"
    }
   ],
   "source": [
    "dinkum.reset()\n",
    "\n",
    "# set it all up!                                                            \n",
    "x = Gene(name='X')          # target of toggle switch                       \n",
    "t = Gene(name='T')          # toggle switch t.f.                            \n",
    "cofactor = Gene(name='cofactor')    # janus factor                          \n",
    "\n",
    "x.toggle_repressed(tf=t, cofactor=cofactor)\n",
    "\n",
    "# tissue M: t is present, cofactor is not; activate.                        \n",
    "m = Tissue(name='M')\n",
    "t.is_present(where=m, start=1)\n",
    "\n",
    "# tissue N: t is present, along with cofactor; repress.                     \n",
    "n = Tissue(name='N')\n",
    "t.is_present(where=n, start=1)\n",
    "cofactor.is_present(where=n, start=1)\n",
    "\n",
    "# run!                                                                      \n",
    "states, tissues, is_active_fn = tc_record_activity(stop=5)\n",
    "mp = MultiTissuePanel(states=states, tissue_names=['M', 'N'],\n",
    "                      save_image=\"toggle_switch.png\")\n",
    "mp.draw(is_active_fn)"
   ]
  },
  {
   "cell_type": "code",
   "execution_count": 11,
   "id": "43f60893",
   "metadata": {},
   "outputs": [
    {
     "data": {
      "image/png": "[encoded data removed]",
      "text/plain": [
       "<IPython.core.display.Image object>"
      ]
     },
     "execution_count": 11,
     "metadata": {},
     "output_type": "execute_result"
    }
   ],
   "source": [
    "Image(filename=\"mutual_repression.png\")"
   ]
  },
  {
   "cell_type": "markdown",
   "id": "af69ab25",
   "metadata": {},
   "source": [
    "## Community effect\n",
    "\n",
    "An initial pulse of A in one cell results in eventual signalling-based lock-on of Y in territory."
   ]
  },
  {
   "cell_type": "code",
   "execution_count": 12,
   "id": "2f159369",
   "metadata": {},
   "outputs": [
    {
     "data": {
      "application/vnd.jupyter.widget-view+json": {
       "model_id": "2cbef84c9d9d4717a9299ea44b9f2608",
       "version_major": 2,
       "version_minor": 0
      },
      "text/plain": [
       "Canvas(height=350, sync_image_data=True, width=470)"
      ]
     },
     "execution_count": 12,
     "metadata": {},
     "output_type": "execute_result"
    }
   ],
   "source": [
    "dinkum.reset()\n",
    "\n",
    "# two tissues                                                               \n",
    "m = Tissue(name='M')\n",
    "n = Tissue(name='N')\n",
    "\n",
    "# neighbors                                                                 \n",
    "m.add_neighbor(neighbor=n)\n",
    "n.add_neighbor(neighbor=m)\n",
    "assert n in m.neighbors     # should this be bidirectional? probably. CTB.  \n",
    "assert m in n.neighbors\n",
    "\n",
    "# VFN:                                                                      \n",
    "a = Gene(name='A')          # transient input in M to turn on ligand L      \n",
    "m.add_gene(gene=a, start=1, duration=6)\n",
    "\n",
    "b = Gene(name='B')          # permanent input in M and N to turn on receptor R                                                                             \n",
    "m.add_gene(gene=b, start=1)\n",
    "n.add_gene(gene=b, start=1)\n",
    "\n",
    "# VFG:                                                                      \n",
    "ligand = Gene(name='L')          # ligand                                   \n",
    "r = Receptor(name='R')      # receptor                                      \n",
    "y = Gene(name='Y')          # activated by R                                \n",
    "\n",
    "ligand.activated_or(sources=[a, y])\n",
    "\n",
    "r.ligand(activator=b, ligand=ligand) # expression driven by B,              \n",
    "                                     # activated by ligand                  \n",
    "y.activated_by(source=r)    # transcription of Y turned on by activated R.  \n",
    "\n",
    "# run!                                                                      \n",
    "states, tissues, is_active_fn = tc_record_activity(stop=10)\n",
    "mp = MultiTissuePanel(states=states, tissue_names=['M', 'N'],\n",
    "                      save_image=\"community_effect.png\")\n",
    "mp.draw(is_active_fn)"
   ]
  },
  {
   "cell_type": "code",
   "execution_count": 13,
   "id": "030e5294",
   "metadata": {},
   "outputs": [
    {
     "data": {
      "image/png": "[encoded data removed]",
      "text/plain": [
       "<IPython.core.display.Image object>"
      ]
     },
     "execution_count": 13,
     "metadata": {},
     "output_type": "execute_result"
    }
   ],
   "source": [
    "Image(filename=\"community_effect.png\")"
   ]
  }
 ],
 "metadata": {
  "kernelspec": {
   "display_name": "py38arm",
   "language": "python",
   "name": "py38arm"
  },
  "language_info": {
   "codemirror_mode": {
    "name": "ipython",
    "version": 3
   },
   "file_extension": ".py",
   "mimetype": "text/x-python",
   "name": "python",
   "nbconvert_exporter": "python",
   "pygments_lexer": "ipython3",
   "version": "3.8.13"
  }
 },
 "nbformat": 4,
 "nbformat_minor": 5
}
